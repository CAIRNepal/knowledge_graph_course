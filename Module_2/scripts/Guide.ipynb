{
 "cells": [
  {
   "cell_type": "markdown",
   "id": "487068aa",
   "metadata": {},
   "source": [
    "# 🎯 Overview\n",
    "\n",
    "We'll build everything in **VS Code** using:\n",
    "\n",
    "- **Python** for both **SPARQL** and **Cypher** queries  \n",
    "- **Jupyter Notebooks** for interactive learning  \n",
    "- **Real databases**:  \n",
    "  - [DBpedia](https://www.dbpedia.org/) (SPARQL)  \n",
    "  - [Neo4j Aura](https://neo4j.com/cloud/aura/) (Cypher)  \n"
   ]
  },
  {
   "cell_type": "code",
   "execution_count": null,
   "id": "9b948b1b",
   "metadata": {
    "vscode": {
     "languageId": "plaintext"
    }
   },
   "outputs": [],
   "source": []
  },
  {
   "cell_type": "markdown",
   "id": "bb02b92a",
   "metadata": {},
   "source": [
    "\n",
    "# 🛠️ Project Setup with Conda\n",
    "\n",
    "## 1. Create project folder\n",
    "```bash\n",
    "mkdir kg-course-module2\n",
    "cd kg-course-module2\n",
    "````\n",
    "\n",
    "## 2. Create Conda environment\n",
    "\n",
    "```bash\n",
    "conda create -n kg-course-module2 python=3.11 -y\n",
    "```\n",
    "\n",
    "## 3. Activate it\n",
    "\n",
    "```bash\n",
    "conda activate kg-course-module2\n",
    "```\n",
    "\n",
    "## 4. Install required packages\n",
    "\n",
    "```bash\n",
    "pip install neo4j pandas SPARQLWrapper jupyter ipykernel matplotlib tabulate\n",
    "```\n",
    "\n"
   ]
  },
  {
   "cell_type": "markdown",
   "id": "e4de917c",
   "metadata": {},
   "source": [
    "# 🌐 Setup Neo4j Aura (Free Cloud Database)\n",
    "\n",
    "1. Go to [Neo4j Aura Free](https://neo4j.com/cloud/aura-free/)  \n",
    "2. **Sign up** (free, no credit card required)  \n",
    "3. **Create a new instance**  \n",
    "4. ⚠️ **IMPORTANT**: Save your credentials (you cannot retrieve them later!)  \n",
    "   - **URI**: `neo4j+s://xxxxx.databases.neo4j.io`  \n",
    "   - **Username**: `neo4j`  \n",
    "   - **Password**: `your_generated_password`  \n",
    "\n",
    "5. Wait **2–3 minutes** for provisioning  \n",
    "6. **Load sample data**:  \n",
    "   - Click **\"Open with Neo4j Browser\"**  \n",
    "   - Run the command:  \n",
    "     ```cypher\n",
    "     :play movies\n",
    "     ```  \n",
    "   - Click through and execute all provided commands  \n"
   ]
  },
  {
   "cell_type": "markdown",
   "id": "9a9f8c52",
   "metadata": {},
   "source": []
  }
 ],
 "metadata": {
  "language_info": {
   "name": "python"
  }
 },
 "nbformat": 4,
 "nbformat_minor": 5
}
