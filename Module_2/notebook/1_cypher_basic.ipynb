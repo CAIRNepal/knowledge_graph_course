{
 "cells": [
  {
   "cell_type": "code",
   "execution_count": 7,
   "id": "f4db3405",
   "metadata": {},
   "outputs": [
    {
     "name": "stdout",
     "output_type": "stream",
     "text": [
      "✅ Credentials saved to: d:\\1\\Knowledge Graph\\knowledge_graph_course\\.env\n",
      "✅ File exists: True\n"
     ]
    }
   ],
   "source": [
    "# Cell 0: Create credentials file (Run this ONCE)\n",
    "import os\n",
    "\n",
    "# Navigate to project root\n",
    "project_root = os.path.abspath(os.path.join(os.getcwd(), '../..'))\n",
    "env_path = os.path.join(project_root, '.env')\n",
    "\n",
    "# Your Neo4j credentials\n",
    "neo4j_credentials = \"\"\"NEO4J_URI=neo4j+s://2dad9bcd.databases.neo4j.io\n",
    "NEO4J_USER=neo4j\n",
    "NEO4J_PASSWORD=tZxE7BCzFpktLV5PxI2nXtxuXIGVEjp1Z0dBZ8Z57vs\n",
    "\"\"\"\n",
    "\n",
    "with open(env_path, 'w') as f:\n",
    "    f.write(neo4j_credentials)\n",
    "\n",
    "print(f\"✅ Credentials saved to: {env_path}\")\n",
    "print(f\"✅ File exists: {os.path.exists(env_path)}\")"
   ]
  },
  {
   "cell_type": "code",
   "execution_count": 9,
   "id": "89251287",
   "metadata": {},
   "outputs": [
    {
     "name": "stdout",
     "output_type": "stream",
     "text": [
      "❌ .env file not found. Run setup_neo4j.py first!\n"
     ]
    },
    {
     "ename": "Exception",
     "evalue": "Run setup_neo4j.py first to configure credentials!",
     "output_type": "error",
     "traceback": [
      "\u001b[31m---------------------------------------------------------------------------\u001b[39m",
      "\u001b[31mException\u001b[39m                                 Traceback (most recent call last)",
      "\u001b[36mCell\u001b[39m\u001b[36m \u001b[39m\u001b[32mIn[9]\u001b[39m\u001b[32m, line 18\u001b[39m\n\u001b[32m     16\u001b[39m creds = load_neo4j_credentials()\n\u001b[32m     17\u001b[39m \u001b[38;5;28;01mif\u001b[39;00m \u001b[38;5;129;01mnot\u001b[39;00m creds:\n\u001b[32m---> \u001b[39m\u001b[32m18\u001b[39m     \u001b[38;5;28;01mraise\u001b[39;00m \u001b[38;5;167;01mException\u001b[39;00m(\u001b[33m\"\u001b[39m\u001b[33mRun setup_neo4j.py first to configure credentials!\u001b[39m\u001b[33m\"\u001b[39m)\n\u001b[32m     20\u001b[39m \u001b[38;5;66;03m# Connect to Neo4j\u001b[39;00m\n\u001b[32m     21\u001b[39m driver = GraphDatabase.driver(\n\u001b[32m     22\u001b[39m     creds[\u001b[33m'\u001b[39m\u001b[33mNEO4J_URI\u001b[39m\u001b[33m'\u001b[39m],\n\u001b[32m     23\u001b[39m     auth=(creds[\u001b[33m'\u001b[39m\u001b[33mNEO4J_USER\u001b[39m\u001b[33m'\u001b[39m], creds[\u001b[33m'\u001b[39m\u001b[33mNEO4J_PASSWORD\u001b[39m\u001b[33m'\u001b[39m])\n\u001b[32m     24\u001b[39m )\n",
      "\u001b[31mException\u001b[39m: Run setup_neo4j.py first to configure credentials!"
     ]
    }
   ],
   "source": [
    "# Cell 1: Setup Neo4j Connection\n",
    "\"\"\"\n",
    "Cypher Basics - Querying Property Graphs\n",
    "========================================\n",
    "We'll query the Movies database using Cypher (Neo4j's query language)\n",
    "\"\"\"\n",
    "\n",
    "\n",
    "from neo4j import GraphDatabase\n",
    "import pandas as pd\n",
    "import sys\n",
    "sys.path.append('..')\n",
    "from scripts.helper_functions import QueryHelper, load_neo4j_credentials\n",
    "\n",
    "# Load credentials\n",
    "creds = load_neo4j_credentials()\n",
    "if not creds:\n",
    "    raise Exception(\"Run setup_neo4j.py first to configure credentials!\")\n",
    "\n",
    "# Connect to Neo4j\n",
    "driver = GraphDatabase.driver(\n",
    "    creds['NEO4J_URI'],\n",
    "    auth=(creds['NEO4J_USER'], creds['NEO4J_PASSWORD'])\n",
    ")\n",
    "\n",
    "helper = QueryHelper()\n",
    "\n",
    "# Verify connection\n",
    "with driver.session() as session:\n",
    "    result = session.run(\"RETURN 'Connected!' as message\")\n",
    "    print(f\"✅ {result.single()['message']}\")\n",
    "    \n",
    "print(\"Ready to query the Movies database!\")"
   ]
  },
  {
   "cell_type": "code",
   "execution_count": null,
   "id": "4f3dec5b",
   "metadata": {},
   "outputs": [],
   "source": []
  },
  {
   "cell_type": "code",
   "execution_count": null,
   "id": "38af7e23",
   "metadata": {},
   "outputs": [],
   "source": []
  }
 ],
 "metadata": {
  "kernelspec": {
   "display_name": "venv",
   "language": "python",
   "name": "python3"
  },
  "language_info": {
   "codemirror_mode": {
    "name": "ipython",
    "version": 3
   },
   "file_extension": ".py",
   "mimetype": "text/x-python",
   "name": "python",
   "nbconvert_exporter": "python",
   "pygments_lexer": "ipython3",
   "version": "3.12.0"
  }
 },
 "nbformat": 4,
 "nbformat_minor": 5
}
