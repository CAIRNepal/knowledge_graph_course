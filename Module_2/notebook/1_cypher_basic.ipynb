{
 "cells": [
  {
   "cell_type": "code",
   "execution_count": null,
   "id": "89251287",
   "metadata": {},
   "outputs": [
    {
     "name": "stdout",
     "output_type": "stream",
     "text": [
      "🔌 Connecting to Neo4j...\n",
      "✅ Successfully Connected!\n",
      "\n",
      "📊 Database Overview:\n",
      "   • Total Nodes: 171\n",
      "   • Total Relationships: 253\n",
      "\n",
      "🎬 Ready to learn Cypher!\n"
     ]
    }
   ],
   "source": [
    "\n",
    "\n",
    "from neo4j import GraphDatabase\n",
    "import pandas as pd\n",
    "from tabulate import tabulate\n",
    "from dotenv import load_dotenv\n",
    "import os\n",
    "\n",
    "\n",
    "load_dotenv()  \n",
    "\n",
    "NEO4J_URI = os.getenv(\"NEO4J_URI\")\n",
    "NEO4J_USER = os.getenv(\"NEO4J_USER\")\n",
    "NEO4J_PASSWORD = os.getenv(\"NEO4J_PASSWORD\")\n",
    "\n",
    "# ============================================================\n",
    "# COMPLETE HELPER CLASS WITH ALL METHODS\n",
    "# ============================================================\n",
    "class QueryHelper:\n",
    "    @staticmethod\n",
    "    def run_query(driver, query, parameters=None):\n",
    "        \"\"\"Execute Cypher query and return results as DataFrame\"\"\"\n",
    "        with driver.session() as session:\n",
    "            result = session.run(query, parameters or {})\n",
    "            records = [dict(record) for record in result]\n",
    "            return pd.DataFrame(records) if records else pd.DataFrame()\n",
    "    \n",
    "    @staticmethod\n",
    "    def display(df, title=\"Results\", max_rows=15):\n",
    "        \"\"\"Pretty print results\"\"\"\n",
    "        print(\"\\n\" + \"=\" * 100)\n",
    "        print(f\"📊 {title}\")\n",
    "        print(\"=\" * 100)\n",
    "        \n",
    "        if df.empty:\n",
    "            print(\"❌ No results found.\")\n",
    "            return\n",
    "        \n",
    "        display_df = df.head(max_rows).copy()\n",
    "        for col in display_df.columns:\n",
    "            if display_df[col].dtype == 'object':\n",
    "                display_df[col] = display_df[col].apply(\n",
    "                    lambda x: str(x)[:60] + \"...\" if isinstance(x, str) and len(str(x)) > 60 else str(x)\n",
    "                )\n",
    "        \n",
    "        print(tabulate(display_df, headers='keys', tablefmt='grid', showindex=False))\n",
    "        \n",
    "        if len(df) > max_rows:\n",
    "            print(f\"\\n... and {len(df) - max_rows} more rows\")\n",
    "        print(f\"\\n✅ Total rows returned: {len(df)}\")\n",
    "    \n",
    "    @staticmethod\n",
    "    def show_query(query):\n",
    "        \"\"\"Display the query being executed\"\"\"\n",
    "        print(\"\\n\" + \"🔍 \" + \"─\" * 95)\n",
    "        print(\"QUERY:\")\n",
    "        print(\"─\" * 100)\n",
    "        print(query.strip())\n",
    "        print(\"─\" * 100)\n",
    "\n",
    "# ============================================================\n",
    "# CONNECT TO NEO4J\n",
    "# ============================================================\n",
    "print(\"🔌 Connecting to Neo4j...\")\n",
    "driver = GraphDatabase.driver(NEO4J_URI, auth=(NEO4J_USER, NEO4J_PASSWORD))\n",
    "helper = QueryHelper()\n",
    "\n",
    "# Verify connection\n",
    "try:\n",
    "    with driver.session() as session:\n",
    "        result = session.run(\"RETURN 'Successfully Connected!' as status\")\n",
    "        print(f\"✅ {result.single()['status']}\")\n",
    "        \n",
    "        # Database info\n",
    "        nodes = session.run(\"MATCH (n) RETURN count(n) as count\").single()[\"count\"]\n",
    "        rels = session.run(\"MATCH ()-[r]->() RETURN count(r) as count\").single()[\"count\"]\n",
    "        \n",
    "        print(f\"\\n📊 Database Overview:\")\n",
    "        print(f\"   • Total Nodes: {nodes}\")\n",
    "        print(f\"   • Total Relationships: {rels}\")\n",
    "        \n",
    "    print(\"\\n🎬 Ready to learn Cypher!\")\n",
    "    \n",
    "except Exception as e:\n",
    "    print(f\"❌ Connection failed: {e}\")\n",
    "    print(\"\\n🔧 Please check:\")\n",
    "    print(\"   1. Your credentials are correct in .env\")\n",
    "    print(\"   2. Neo4j Aura instance is running\")\n",
    "    print(\"   3. You have internet connection\")\n"
   ]
  },
  {
   "cell_type": "code",
   "execution_count": 27,
   "id": "af619af6",
   "metadata": {},
   "outputs": [
    {
     "name": "stdout",
     "output_type": "stream",
     "text": [
      "\n",
      "🔍 ───────────────────────────────────────────────────────────────────────────────────────────────\n",
      "QUERY:\n",
      "────────────────────────────────────────────────────────────────────────────────────────────────────\n",
      "MATCH (m:Movie)\n",
      "RETURN m\n",
      "LIMIT 5\n",
      "────────────────────────────────────────────────────────────────────────────────────────────────────\n",
      "\n",
      "====================================================================================================\n",
      "📊 Movies Dataset Sample (First 5 Rows)\n",
      "====================================================================================================\n",
      "+-----------------------------------------------------------------+------------------------+------------+\n",
      "| tagline                                                         | title                  |   released |\n",
      "+=================================================================+========================+============+\n",
      "| Welcome to the Real World                                       | The Matrix             |       1999 |\n",
      "+-----------------------------------------------------------------+------------------------+------------+\n",
      "| Free your mind                                                  | The Matrix Reloaded    |       2003 |\n",
      "+-----------------------------------------------------------------+------------------------+------------+\n",
      "| Everything that has a beginning has an end                      | The Matrix Revolutions |       2003 |\n",
      "+-----------------------------------------------------------------+------------------------+------------+\n",
      "| Evil has its winning ways                                       | The Devil's Advocate   |       1997 |\n",
      "+-----------------------------------------------------------------+------------------------+------------+\n",
      "| In the heart of the nation's capital, in a courthouse of the... | A Few Good Men         |       1992 |\n",
      "+-----------------------------------------------------------------+------------------------+------------+\n",
      "\n",
      "✅ Total rows returned: 5\n"
     ]
    }
   ],
   "source": [
    "# ============================================================\n",
    "# CELL: MOVIES DATASET OVERVIEW (CLEAN DISPLAY)\n",
    "# ============================================================\n",
    "\n",
    "# Query all movies\n",
    "query = \"\"\"\n",
    "MATCH (m:Movie)\n",
    "RETURN m\n",
    "LIMIT 5\n",
    "\"\"\"\n",
    "helper.show_query(query)\n",
    "raw_df = helper.run_query(driver, query)\n",
    "\n",
    "# Extract properties from each Node into separate columns\n",
    "movies_df = pd.json_normalize(raw_df['m'].apply(lambda x: x._properties if hasattr(x, '_properties') else {}))\n",
    "\n",
    "# Display the cleaned dataframe\n",
    "helper.display(movies_df, \"Movies Dataset Sample (First 5 Rows)\")\n"
   ]
  },
  {
   "cell_type": "markdown",
   "id": "a265e90b",
   "metadata": {},
   "source": [
    "# Let's Explore Cypher! 🚀\n",
    "\n",
    "Welcome to the world of **Cypher**, the graph query language designed for querying the **Neo4j Database**! Think of it as the SQL for graph databases—perfect for navigating and uncovering insights from connected data. Ready to dive in? Let's make it fun and interactive!\n",
    "\n",
    "## What is Cypher?\n",
    "\n",
    "Cypher is your go-to tool for querying the Neo4j Database. Just like you’d use SQL to interact with a MySQL database, Cypher lets you explore nodes, relationships, and patterns in a graph with simple, intuitive queries.\n",
    "\n",
    "### Try It Yourself!\n",
    "\n",
    "Here’s a sample Cypher query to get you started. This query finds movies released after 2000 and returns the top 5. Copy it, paste it into your Neo4j environment, and see what happens!\n",
    "\n",
    "```cypher\n",
    "MATCH (m:Movie)\n",
    "WHERE m.released > 2000\n",
    "RETURN m LIMIT 5\n",
    "```\n",
    "\n",
    "**What’s happening here?**\n",
    "- `MATCH (m:Movie)`: Finds nodes labeled as `Movie`.\n",
    "- `WHERE m.released > 2000`: Filters for movies released after 2000.\n",
    "- `RETURN m LIMIT 5`: Returns up to 5 matching movies.\n",
    "\n",
    "### Your Turn!\n",
    "Try tweaking the query! For example:\n",
    "- Change `2000` to another year.\n",
    "- Replace `LIMIT 5` with `LIMIT 10` to see more results.\n",
    "- Add a property like `m.title` in the `RETURN` clause to get specific details."
   ]
  },
  {
   "cell_type": "code",
   "execution_count": 31,
   "id": "0c73e257",
   "metadata": {},
   "outputs": [
    {
     "name": "stdout",
     "output_type": "stream",
     "text": [
      "\n",
      "🔍 ───────────────────────────────────────────────────────────────────────────────────────────────\n",
      "QUERY:\n",
      "────────────────────────────────────────────────────────────────────────────────────────────────────\n",
      "MATCH (m:Movie)\n",
      "WHERE m.released > 2000\n",
      "RETURN m.title AS title, m.released AS year\n",
      "LIMIT 5\n",
      "────────────────────────────────────────────────────────────────────────────────────────────────────\n",
      "\n",
      "====================================================================================================\n",
      "📊 My First Cypher Query - Simple Movie List\n",
      "====================================================================================================\n",
      "+------------------------+--------+\n",
      "| title                  |   year |\n",
      "+========================+========+\n",
      "| The Matrix Reloaded    |   2003 |\n",
      "+------------------------+--------+\n",
      "| The Matrix Revolutions |   2003 |\n",
      "+------------------------+--------+\n",
      "| RescueDawn             |   2006 |\n",
      "+------------------------+--------+\n",
      "| Cloud Atlas            |   2012 |\n",
      "+------------------------+--------+\n",
      "| The Da Vinci Code      |   2006 |\n",
      "+------------------------+--------+\n",
      "\n",
      "✅ Total rows returned: 5\n"
     ]
    }
   ],
   "source": [
    "# ============================================================\n",
    "# CELL 2:  YOUR FIRST CYPHER QUERY\n",
    "# ============================================================\n",
    "\n",
    "# query = \"\"\"\n",
    "# MATCH (m:Movie)\n",
    "# RETURN m.title AS title, m.released AS year\n",
    "# LIMIT 5\n",
    "# \"\"\"\n",
    "query= \"\"\"MATCH (m:Movie)\n",
    "WHERE m.released > 2000\n",
    "RETURN m.title AS title, m.released AS year\n",
    "LIMIT 5\"\"\"\n",
    "\n",
    "helper.show_query(query)\n",
    "results = helper.run_query(driver, query)\n",
    "helper.display(results, \"My First Cypher Query - Simple Movie List\")"
   ]
  },
  {
   "cell_type": "markdown",
   "id": "d5d6894c",
   "metadata": {},
   "source": [
    "Expected Result: The above query will return all the movies that were released after the year 2000 limiting the result to 5 items."
   ]
  },
  {
   "attachments": {
    "image.png": {
     "image/png": "[encoded data removed]"
    }
   },
   "cell_type": "markdown",
   "id": "b3193176",
   "metadata": {},
   "source": [
    "![image.png](attachment:image.png)"
   ]
  },
  {
   "cell_type": "markdown",
   "id": "5b96b3e9",
   "metadata": {},
   "source": []
  },
  {
   "cell_type": "markdown",
   "id": "a8d7d727",
   "metadata": {},
   "source": [
    "1.Write a query to retrieve all the movies released after the year 2005."
   ]
  },
  {
   "cell_type": "code",
   "execution_count": null,
   "id": "37f72e40",
   "metadata": {},
   "outputs": [],
   "source": [
    "MATCH (m:Movie)\n",
    "WHERE m.released > 2005\n",
    "RETURN m"
   ]
  },
  {
   "cell_type": "markdown",
   "id": "5b508e5f",
   "metadata": {},
   "source": [
    "2.Write a query to return the count of movies released after the year 2005. (Hint: you can use the COUNT(m) function to return the count)"
   ]
  },
  {
   "cell_type": "markdown",
   "id": "e1bea831",
   "metadata": {},
   "source": [
    "MATCH (m:Movie)\n",
    "WHERE m.released > 2005\n",
    "RETURN count(m)"
   ]
  },
  {
   "cell_type": "markdown",
   "id": "619b5708",
   "metadata": {},
   "source": [
    "\n",
    "\n",
    "\n",
    "## 🔹 Nodes and Relationships — The Building Blocks of a Graph\n",
    "\n",
    "In a **graph database**, everything is built around **nodes** and **relationships**.  \n",
    "They form the foundation for representing connected data.\n",
    "\n",
    "---\n",
    "\n",
    "### 🟢 Nodes\n",
    "\n",
    "**Nodes** represent **entities** or **objects** — similar to **rows** in a relational database table.\n",
    "\n",
    "Each node can:\n",
    "- Have a **label** (e.g., `Person`, `Movie`) that describes its type or category.\n",
    "- Contain **properties** (key–value pairs) that store information about that entity.\n",
    "\n",
    "Example:\n",
    "(p:Person)\n",
    "\n",
    "\n",
    "Here:\n",
    "- `p` → is a **variable** (used within the Cypher query).  \n",
    "- `Person` → is the **label** of the node type.\n",
    "\n",
    "---\n",
    "\n",
    "### 🎬 Example in Context\n",
    "\n",
    "In a movie graph, we may have:\n",
    "- A **Person** node representing an actor or director.\n",
    "- A **Movie** node representing a film.\n",
    "\n",
    "These nodes can later be connected through **relationships** like:\n",
    "(:Person)-[:ACTED_IN]->(:Movie)\n",
    "\n",
    "\n",
    "\n",
    "This means *a Person acted in a Movie* — forming the core of how we represent data in Neo4j.\n",
    "\n",
    "---\n",
    "\n",
    "✅ **Summary**\n",
    "- **Nodes** = Entities (like rows in tables).  \n",
    "- **Labels** = Categories or types (like table names).  \n",
    "- **Properties** = Attributes describing the node.\n",
    "- **Relationships** = Connections that define how nodes are related."
   ]
  },
  {
   "attachments": {
    "image.png": {
     "image/png": "[encoded data removed]"
    }
   },
   "cell_type": "markdown",
   "id": "3339c580",
   "metadata": {},
   "source": [
    "![image.png](attachment:image.png)"
   ]
  },
  {
   "cell_type": "markdown",
   "id": "af244b85",
   "metadata": {},
   "source": [
    "## 🔸 Relationships — Connecting the Nodes\n",
    "\n",
    "**Relationships** describe how two nodes are **connected** in a graph.  \n",
    "They define the **type of interaction** or **association** between entities.\n",
    "\n",
    "---\n",
    "\n",
    "### 🔗 Example of Relationships\n",
    "\n",
    "In a movie graph, relationships might include:\n",
    "\n",
    "- `(:Person)-[:ACTED_IN]->(:Movie)`  \n",
    "- `(:Person)-[:DIRECTED]->(:Movie)`  \n",
    "- `(:Person)-[:REVIEWED]->(:Movie)`  \n",
    "- `(:Person)-[:PRODUCED]->(:Movie)`  \n",
    "- `(:Person)-[:WROTE]->(:Movie)`\n",
    "\n",
    "Each relationship represents a **specific role or connection** between nodes."
   ]
  },
  {
   "cell_type": "code",
   "execution_count": null,
   "id": "6e13b04d",
   "metadata": {},
   "outputs": [],
   "source": [
    "MATCH (p:Person)-[d:DIRECTED]-(m:Movie)\n",
    "WHERE m.released > 2010\n",
    "RETURN p,d,m"
   ]
  },
  {
   "cell_type": "markdown",
   "id": "db3fae01",
   "metadata": {},
   "source": [
    "Query to get all the people who acted in a movie that was released after 2010."
   ]
  },
  {
   "cell_type": "code",
   "execution_count": null,
   "id": "cbb79831",
   "metadata": {},
   "outputs": [],
   "source": [
    "MATCH (p:Person)-[r:ACTED_IN]-(m:Movie)\n",
    "WHERE m.released > 2010\n",
    "RETURN p,r,m"
   ]
  },
  {
   "cell_type": "markdown",
   "id": "2789cc43",
   "metadata": {},
   "source": [
    "## 🏷️ Labels in Graph Databases\n",
    "\n",
    "**Labels** identify the **type** of a node or relationship.\n",
    "\n",
    "- Example: `Movie` and `Person` are **node labels**  \n",
    "- `ACTED_IN`, `REVIEWED`, `DIRECTED` are **relationship types**\n",
    "\n",
    "In **Cypher**, labels are written with a colon `:`  \n",
    "Example:  \n",
    "(p:Person)-[:ACTED_IN]->(m:Movie)\n",
    "\n",
    "\n",
    "\n",
    "Here:\n",
    "- `p` → variable  \n",
    "- `Person` → label  \n",
    "\n",
    "✅ **Use labels** to target specific node types in queries, e.g.:\n",
    "MATCH (m:Movie) RETURN m.title"
   ]
  },
  {
   "cell_type": "code",
   "execution_count": null,
   "id": "db3e24dc",
   "metadata": {},
   "outputs": [],
   "source": [
    "MATCH (p:Person)\n",
    "RETURN p\n",
    "LIMIT 20"
   ]
  },
  {
   "cell_type": "markdown",
   "id": "cd45a8b7",
   "metadata": {},
   "source": [
    "## 🧩 Properties in Graph Databases\n",
    "\n",
    "**Properties** are **name–value pairs** used to store details about nodes or relationships.\n",
    "\n",
    "Example:\n",
    "MATCH (m:Movie)\n",
    "RETURN m.title, m.released\n",
    "\n",
    "\n",
    "🎯 Returns only the **title** and **released year** of each movie.\n",
    "\n",
    "---\n",
    "\n",
    "### 🧠 Try It Yourself\n",
    "\n",
    "Get the name and birth year of all people:\n",
    "MATCH (p:Person)\n",
    "RETURN p.name, p.born\n",
    "\n",
    "\n",
    "\n",
    "✅ Properties make graph data **rich and descriptive**, just like columns in a table."
   ]
  },
  {
   "cell_type": "code",
   "execution_count": null,
   "id": "34929dd8",
   "metadata": {},
   "outputs": [],
   "source": [
    "MATCH (m:Movie)\n",
    "RETURN m.title, m.released"
   ]
  },
  {
   "attachments": {
    "image.png": {
     "image/png": "[encoded data removed]"
    }
   },
   "cell_type": "markdown",
   "id": "d63a0b4e",
   "metadata": {},
   "source": [
    "![image.png](attachment:image.png)"
   ]
  },
  {
   "cell_type": "code",
   "execution_count": null,
   "id": "bae24e0f",
   "metadata": {},
   "outputs": [],
   "source": [
    "MATCH (p:Person)\n",
    "RETURN p.name, p.born"
   ]
  },
  {
   "cell_type": "markdown",
   "id": "91918732",
   "metadata": {},
   "source": [
    "## 🏗️ Create a Node\n",
    "\n",
    "The **CREATE** clause is used to make new **nodes or relationships** in Neo4j.\n",
    "\n",
    "Example:\n",
    "CREATE (p:Person {name: 'John Doe'})\n",
    "RETURN p\n",
    "\n",
    "\n",
    "🎯 Creates a new **Person** node with the property `name = 'John Doe'`.\n",
    "\n",
    "---\n",
    "\n"
   ]
  },
  {
   "cell_type": "code",
   "execution_count": null,
   "id": "0604c38e",
   "metadata": {},
   "outputs": [],
   "source": [
    "CREATE (p:Person {name: 'John Doe'})\n",
    "RETURN p"
   ]
  },
  {
   "cell_type": "markdown",
   "id": "e3ee612a",
   "metadata": {},
   "source": [
    "### 🧠 Try It Yourself\n",
    "Create a new Person node with your own name:\n",
    "CREATE (p:Person {name: '<Your Name>'})\n",
    "RETURN p\n",
    "\n",
    "\n",
    "\n",
    "✅ Use **CREATE** to add data into your graph."
   ]
  },
  {
   "cell_type": "code",
   "execution_count": null,
   "id": "e318cb56",
   "metadata": {},
   "outputs": [],
   "source": [
    "CREATE (p:Person {name: '<Your Name>'})\n",
    "RETURN p"
   ]
  },
  {
   "cell_type": "markdown",
   "id": "10060308",
   "metadata": {},
   "source": [
    "## 🔍 Finding Nodes with MATCH and WHERE Clause\n",
    "\n",
    "The **MATCH** clause is used to find nodes that fit a specific pattern — it’s the main way to query data in Neo4j.\n",
    "\n",
    "Example:\n",
    "MATCH (p:Person {name: 'Tom Hanks'})\n",
    "RETURN p\n",
    "\n",
    "\n",
    "🎯 Finds the **Person** node where `name = 'Tom Hanks'`.\n",
    "\n",
    "---\n",
    "\n"
   ]
  },
  {
   "cell_type": "code",
   "execution_count": null,
   "id": "77bd5ede",
   "metadata": {},
   "outputs": [],
   "source": [
    "MATCH (p:Person {name: 'Tom Hanks'})\n",
    "RETURN p"
   ]
  },
  {
   "cell_type": "markdown",
   "id": "67ff132f",
   "metadata": {},
   "source": [
    "### 💡 Using WHERE for Filtering\n",
    "The **WHERE** clause allows **advanced filtering** like comparisons and string conditions:\n",
    "\n",
    "MATCH (p:Person)\n",
    "WHERE p.born < 1970 OR p.name STARTS WITH 'T'\n",
    "RETURN p.name, p.born\n",
    "\n",
    "\n",
    "\n",
    "✅ Use **MATCH** to locate nodes and **WHERE** to refine results.\n"
   ]
  },
  {
   "cell_type": "code",
   "execution_count": null,
   "id": "d84b4618",
   "metadata": {},
   "outputs": [],
   "source": [
    "MATCH (p:Person)\n",
    "WHERE p.name = \"Tom Hanks\"\n",
    "RETURN p"
   ]
  },
  {
   "cell_type": "markdown",
   "id": "2849861c",
   "metadata": {},
   "source": [
    "Try:\n",
    "\n",
    "Find the movie with title \"Cloud Atlas\" \n"
   ]
  },
  {
   "cell_type": "markdown",
   "id": "473fec60",
   "metadata": {},
   "source": [
    "Get all the movies that were released between 2010 and 2015."
   ]
  },
  {
   "cell_type": "markdown",
   "id": "4dac38d5",
   "metadata": {},
   "source": [
    "## 🔄 MERGE Clause\n",
    "\n",
    "The **MERGE** clause is used to:\n",
    "\n",
    "1. **Match** existing nodes (if they already exist), or  \n",
    "2. **Create** new ones (if they don’t).\n",
    "\n",
    "It acts as a combination of **MATCH** and **CREATE**, ensuring that no duplicates are created."
   ]
  },
  {
   "cell_type": "code",
   "execution_count": null,
   "id": "afafded0",
   "metadata": {},
   "outputs": [],
   "source": [
    "MERGE (p:Person {name: 'John Doe'})\n",
    "ON CREATE SET p.createdAt = timestamp()\n",
    "ON MATCH SET p.lastLoggedInAt = timestamp()\n",
    "RETURN p"
   ]
  },
  {
   "cell_type": "markdown",
   "id": "13ceaf49",
   "metadata": {},
   "source": [
    "## 🔄 MERGE Clause Example\n",
    "\n",
    "\n",
    "\n",
    "If the node does not exist, it is created and createdAt is set to the current timestamp.\n",
    "\n",
    "If the node already exists, it is matched and lastLoggedInAt is updated with the current timestamp.\n",
    "\n",
    "✅ MERGE ensures no duplicate nodes and allows different actions for creation vs match.\n",
    "\n",
    "\n",
    "\n",
    "\n",
    "\n",
    "\n",
    "\n",
    "\n",
    "\n",
    "\n"
   ]
  },
  {
   "cell_type": "markdown",
   "id": "4199e513",
   "metadata": {},
   "source": [
    "#### Task: Write a query using Merge to create a movie node with title \"Greyhound\". If the node does not exist then set its released property to 2020 and lastUpdatedAt property to the current time stamp. If the node already exists, then only set lastUpdatedAt to the current time stamp. Return the movie node.\n",
    "\n"
   ]
  },
  {
   "cell_type": "markdown",
   "id": "8be86335",
   "metadata": {},
   "source": [
    "# Create a Relationship\n",
    "\n",
    "A Relationship connects 2 nodes.\n",
    "\n",
    "## Example Cypher Query\n",
    "\n",
    "```cypher\n",
    "MATCH (p:Person), (m:Movie)\n",
    "WHERE p.name = \"Tom Hanks\" AND m.title = \"Cloud Atlas\"\n",
    "CREATE (p)-[w:WATCHED]->(m)\n",
    "RETURN type(w)\n"
   ]
  },
  {
   "cell_type": "markdown",
   "id": "5423cb79",
   "metadata": {},
   "source": [
    "The above statement will create a relationship :WATCHED between the existing Person and Movie nodes and return the type of relationship (i.e., WATCHED)."
   ]
  },
  {
   "cell_type": "code",
   "execution_count": null,
   "id": "03c44a55",
   "metadata": {},
   "outputs": [],
   "source": [
    "MATCH (p:Person), (m:Movie)\n",
    "WHERE p.name = \"Tom Hanks\" AND m.title = \"Cloud Atlas\"\n",
    "CREATE (p)-[w:WATCHED]->(m)\n",
    "RETURN type(w)"
   ]
  },
  {
   "cell_type": "markdown",
   "id": "3c9308e5",
   "metadata": {},
   "source": [
    "#### Task: Create a relationship :WATCHED between the node you created for yourself previously in step 6 and the movie Cloud Atlas and then return the type of created relationship"
   ]
  },
  {
   "attachments": {
    "image.png": {
     "image/png": "[encoded data removed]"
    }
   },
   "cell_type": "markdown",
   "id": "ad33b780",
   "metadata": {},
   "source": [
    "![image.png](attachment:image.png)"
   ]
  },
  {
   "cell_type": "markdown",
   "id": "bce4462b",
   "metadata": {},
   "source": [
    "# Relationship Types\n",
    "\n",
    "In Neo4j, there can be 2 kinds of relationships - incoming and outgoing. In the above picture, the Tom Hanks node is said to have an outgoing relationship while the Cloud Atlas node is said to have an incoming relationship.\n",
    "\n",
    "Relationships always have a direction. However, you only have to pay attention to the direction where it is useful.\n",
    "\n",
    "To denote an outgoing or an incoming relationship in Cypher, we use `→` or `←`.\n",
    "\n",
    "## Example\n",
    "\n",
    "```cypher\n",
    "MATCH (p:Person)-[r:ACTED_IN]->(m:Movie)\n",
    "RETURN p, r, m"
   ]
  },
  {
   "cell_type": "code",
   "execution_count": null,
   "id": "81940a60",
   "metadata": {},
   "outputs": [],
   "source": [
    "MATCH (p:Person)-[r:ACTED_IN]->(m:Movie)\n",
    "RETURN p,r,m"
   ]
  },
  {
   "cell_type": "markdown",
   "id": "049174da",
   "metadata": {},
   "source": [
    "# Relationship Direction\n",
    "\n",
    "In the above query, Person has an outgoing relationship and Movie has an incoming relationship.\n",
    "\n",
    "Although, in the case of the movies dataset, the direction of the relationship is not that important and even without denoting the direction in the query, it will return the same result. So the query can also be written without explicit direction:\n",
    "\n",
    "## Example without Direction\n",
    "\n",
    "```cypher\n",
    "MATCH (p:Person)-[r:ACTED_IN]-(m:Movie)\n",
    "RETURN p, r, m"
   ]
  },
  {
   "cell_type": "code",
   "execution_count": null,
   "id": "0a04589c",
   "metadata": {},
   "outputs": [],
   "source": [
    "MATCH (p:Person)-[r:ACTED_IN]-(m:Movie)\n",
    "RETURN p,r,m"
   ]
  },
  {
   "cell_type": "markdown",
   "id": "b5b63237",
   "metadata": {},
   "source": [
    "This query will result the same answer as above"
   ]
  },
  {
   "cell_type": "markdown",
   "id": "9656e7a8",
   "metadata": {},
   "source": [
    "## Advanced Cypher Queries\n"
   ]
  },
  {
   "cell_type": "markdown",
   "id": "47636b35",
   "metadata": {},
   "source": [
    "### 1.Finding who directed Cloud Atlas movie"
   ]
  },
  {
   "cell_type": "code",
   "execution_count": null,
   "id": "e1686f4c",
   "metadata": {},
   "outputs": [],
   "source": [
    "MATCH (m:Movie {title: 'Cloud Atlas'})<-[d:DIRECTED]-(p:Person)\n",
    "RETURN p.name"
   ]
  },
  {
   "cell_type": "markdown",
   "id": "6b5d8a13",
   "metadata": {},
   "source": [
    "### 2. Finding all people who have co-acted with Tom Hanks in any movie"
   ]
  },
  {
   "cell_type": "markdown",
   "id": "1cd70a3e",
   "metadata": {},
   "source": [
    "MATCH (tom:Person {name: \"Tom Hanks\"})-[:ACTED_IN]->(:Movie)<-[:ACTED_IN]-(p:Person)\n",
    "RETURN p.name"
   ]
  },
  {
   "cell_type": "markdown",
   "id": "e81f45e7",
   "metadata": {},
   "source": [
    "### 3. Finding all people related to the movie Cloud Atlas in any way"
   ]
  },
  {
   "cell_type": "code",
   "execution_count": null,
   "id": "b513b4bb",
   "metadata": {},
   "outputs": [],
   "source": [
    "MATCH (p:Person)-[relatedTo]-(m:Movie {title: \"Cloud Atlas\"})\n",
    "RETURN p.name, type(relatedTo)"
   ]
  },
  {
   "cell_type": "markdown",
   "id": "50e906f8",
   "metadata": {},
   "source": [
    "### 4. Finding Movies and Actors that are 3 hops away from Kevin Bacon."
   ]
  },
  {
   "cell_type": "markdown",
   "id": "27bdba14",
   "metadata": {},
   "source": [
    "MATCH (p:Person {name: 'Kevin Bacon'})-[*1..3]-(hollywood)\n",
    "RETURN DISTINCT p, hollywood"
   ]
  },
  {
   "cell_type": "markdown",
   "id": "5d20205e",
   "metadata": {},
   "source": [
    "### Note: in the above query, hollywood refers to any node in the database (in this case Person and Movie nodes)"
   ]
  },
  {
   "cell_type": "markdown",
   "id": "0da837e9",
   "metadata": {},
   "source": []
  }
 ],
 "metadata": {
  "kernelspec": {
   "display_name": "Python 3",
   "language": "python",
   "name": "python3"
  },
  "language_info": {
   "codemirror_mode": {
    "name": "ipython",
    "version": 3
   },
   "file_extension": ".py",
   "mimetype": "text/x-python",
   "name": "python",
   "nbconvert_exporter": "python",
   "pygments_lexer": "ipython3",
   "version": "3.12.0"
  }
 },
 "nbformat": 4,
 "nbformat_minor": 5
}
